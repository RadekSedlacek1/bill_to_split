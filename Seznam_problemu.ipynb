{
 "cells": [
  {
   "cell_type": "markdown",
   "metadata": {},
   "source": [
    "### Zatím lze pozvat více notifikací pro pozvání do ledgeru\n",
    "od všech už zapsaných účastníků. Musím udělat kontrolu, že už je notifikace spojující nezapsanou Person a ledger a pokud existuje, nelze poslat pozvánku podruhé"
   ]
  },
  {
   "cell_type": "markdown",
   "metadata": {},
   "source": [
    "### Zatím nefungují zprávy úposílané z views do template:\n",
    "\n",
    "messages.success(request, f\"The request has been accepted and connection with {sender.name} created\")\n",
    "\n",
    "{% if messages %}\n",
    "  <ul>\n",
    "    {% for message in messages %}\n",
    "      <li class=\"{{ message.tags }}\">{{ message }}</li>\n",
    "    {% endfor %}\n",
    "  </ul>\n",
    "{% endif %}\n",
    "\n"
   ]
  },
  {
   "cell_type": "markdown",
   "metadata": {},
   "source": [
    "### Sjednotit my overview a contact list"
   ]
  },
  {
   "cell_type": "markdown",
   "metadata": {},
   "source": [
    "### Payment add:\n",
    "Při zadávání platby bych měl být schopný vidět kolik zbývá přerozdělit a tlačítko na dopočítat poslední částku."
   ]
  },
  {
   "cell_type": "markdown",
   "metadata": {},
   "source": [
    "### Druhý účet se stejným e-mailsem ! Nesmí být povoleno"
   ]
  },
  {
   "cell_type": "markdown",
   "metadata": {},
   "source": [
    "### Notifikace\n",
    "vyřešit co se má stát, pokud přijde notifikace o platbě a já ji odmítnu. Balance by pro tom měla mít status přijato / podmítnuto a pokud je platba vázaná na balance se statusem pending, nebo declined, tak se nezapočítá do ledgeru. Bude v něm ale vidět ve zvláštním oddílu, dokud nedojde k vyřešení situace. Administrátor paltby a nebo admin ledgeru mají možnost editovat pending platbu a až jsou spokojení s výsledkem, odešlou to opět ke schválení všech participantů, u kterých se měnila balance."
   ]
  },
  {
   "cell_type": "markdown",
   "metadata": {},
   "source": [
    "### payment_add:\n",
    "PaymentBalance.objects.create(...) přidat i created_at / modified_at"
   ]
  },
  {
   "cell_type": "markdown",
   "metadata": {},
   "source": [
    "### Unikátnost záznamu User.name\n",
    "Při vytváření účtu je problém s unikátností User.name, měl bych to nahradit nějakým nickem, že uvidím vždy neunikátní nick místo jména, ale logika bude pracovat se jménem, nebo lépe s ID, které unikátní bude.\n",
    "Jméno pak pro potřeby databáze může být User.nick+ID, to unikátní bude vždy díky tomu ID. \n",
    "Pro potřeby ledgeru, kde se vyskytuje Person to bude Person.name+id.\n",
    "Do logiky pak musím přidat možnost vidět vždy i e-mail, nebo ID pro případ, že více lidí má shodný nick ve stejném ledgeru. Abych provedl platbu na správného usera.\n"
   ]
  },
  {
   "cell_type": "markdown",
   "metadata": {},
   "source": [
    "### Změna přiřazování ID\n",
    "Bylo by dobré přidat generátor náhodných čísel k přiřazení ID tak, aby z ID nebylo možné poznat kolik lidí má účet a zároveň aby ID mělo vždy daný počet číslic, například 8\n",
    "Není potřeba řešit, když budu vyhledávat uživatele podle e-mailu\n",
    "E-mail by měl být zobrazen v informaci o přihlášeném uživateli"
   ]
  },
  {
   "cell_type": "markdown",
   "metadata": {},
   "source": [
    "### Notifikace\n",
    "Notifikace musí být nová entita v modelu a mít pole: Od koho, komu, typ, stav(pending / accepted / refused)\n",
    "* Upozornění na přidání do seznamu kontaktů jiného uživatele\n",
    "* Upozornění na přidání do ledgeru (dummy platba a dummy balance)\n",
    "* upozornění na změnu balance v rámci ledgeru - platba s balance s mým jménem"
   ]
  },
  {
   "cell_type": "markdown",
   "metadata": {},
   "source": [
    "### Požadavky s příjmutím\n",
    "Editace notifikace na možnost přijmutí a odmítnutí požadavku i v templatech a views"
   ]
  }
 ],
 "metadata": {
  "language_info": {
   "name": "python"
  }
 },
 "nbformat": 4,
 "nbformat_minor": 2
}
